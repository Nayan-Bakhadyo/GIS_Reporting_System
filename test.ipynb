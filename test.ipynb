{
 "cells": [
  {
   "cell_type": "code",
   "execution_count": 14,
   "id": "initial_id",
   "metadata": {
    "collapsed": true,
    "ExecuteTime": {
     "end_time": "2024-02-13T11:41:19.835081Z",
     "start_time": "2024-02-13T11:41:19.823103Z"
    }
   },
   "outputs": [],
   "source": [
    "import geopandas as gpd\n",
    "import rasterio\n",
    "from rasterio.mask import mask\n",
    "from rasterio.crs import CRS\n",
    "from shapely.geometry import Polygon\n",
    "from tqdm import tqdm"
   ]
  },
  {
   "cell_type": "code",
   "execution_count": 15,
   "outputs": [
    {
     "name": "stderr",
     "output_type": "stream",
     "text": [
      "Clipping Raster: 100%|██████████| 1/1 [00:03<00:00,  3.66s/polygon]\n"
     ]
    }
   ],
   "source": [
    "\n",
    "# Example usage:\n",
    "raster_url = 'assets/sat_img/01_13_23_imagery_clipped.tif'\n",
    "shapefile_url = 'Temp/shapefile/Ward_29.shp'\n",
    "output_path = 'Temp/output/clipped_raster.tif'\n",
    "\n",
    "# Read the raster file\n",
    "with rasterio.open(raster_url) as src:\n",
    "    # Get CRS of the raster\n",
    "    raster_crs = src.crs\n",
    "\n",
    "    # Read the shapefile\n",
    "    shapefile_gdf = gpd.read_file(shapefile_url)\n",
    "\n",
    "    # Check CRS of the shapefile\n",
    "    if shapefile_gdf.crs != raster_crs:\n",
    "        # Reproject the shapefile to match the CRS of the raster\n",
    "        shapefile_gdf = shapefile_gdf.to_crs(raster_crs)\n",
    "\n",
    "    # Convert the shapefile geometry to list of shapely Polygon objects\n",
    "    geometries = [Polygon(feature['geometry']) for _, feature in shapefile_gdf.iterrows()]\n",
    "\n",
    "    # Initialize a list to store clipped raster data\n",
    "    clipped_rasters = []\n",
    "\n",
    "    # Iterate over geometries and mask the raster using tqdm to show progress\n",
    "    for geometry in tqdm(geometries, desc=\"Clipping Raster\", unit=\"polygon\"):\n",
    "        # Mask the raster using the reprojected shapefile\n",
    "        raster_data, raster_transform = mask(src, [geometry], crop=True)\n",
    "\n",
    "        # Append the clipped raster data to the list\n",
    "        clipped_rasters.append(raster_data)\n",
    "\n",
    "    # Combine all clipped raster data into one array\n",
    "    clipped_data = sum(clipped_rasters)\n",
    "\n",
    "    # Get metadata of clipped raster\n",
    "    raster_meta = src.meta.copy()\n",
    "\n",
    "# Update metadata for clipped raster\n",
    "raster_meta.update({\n",
    "    'height': clipped_data.shape[1],\n",
    "    'width': clipped_data.shape[2],\n",
    "    'transform': raster_transform,\n",
    "    'crs': raster_crs  # Ensure CRS is preserved\n",
    "})\n",
    "\n",
    "# Write the clipped raster to disk\n",
    "with rasterio.open(output_path, 'w', **raster_meta) as dst:\n",
    "    dst.write(clipped_data)"
   ],
   "metadata": {
    "collapsed": false,
    "ExecuteTime": {
     "end_time": "2024-02-13T11:41:24.836320Z",
     "start_time": "2024-02-13T11:41:20.557183Z"
    }
   },
   "id": "dac08dfbe06f42a8"
  },
  {
   "cell_type": "code",
   "execution_count": 2,
   "outputs": [],
   "source": [
    "import os"
   ],
   "metadata": {
    "collapsed": false,
    "ExecuteTime": {
     "end_time": "2024-02-19T09:57:45.842086Z",
     "start_time": "2024-02-19T09:57:45.837145Z"
    }
   },
   "id": "eff23e07a2c60663"
  },
  {
   "cell_type": "code",
   "execution_count": 7,
   "outputs": [
    {
     "ename": "KeyError",
     "evalue": "'GIS_REPORTING_SYSTEM'",
     "output_type": "error",
     "traceback": [
      "\u001B[0;31m---------------------------------------------------------------------------\u001B[0m",
      "\u001B[0;31mKeyError\u001B[0m                                  Traceback (most recent call last)",
      "Cell \u001B[0;32mIn[7], line 1\u001B[0m\n\u001B[0;32m----> 1\u001B[0m \u001B[38;5;28mprint\u001B[39m(\u001B[43mos\u001B[49m\u001B[38;5;241;43m.\u001B[39;49m\u001B[43menviron\u001B[49m\u001B[43m[\u001B[49m\u001B[38;5;124;43m\"\u001B[39;49m\u001B[38;5;124;43mGIS_REPORTING_SYSTEM\u001B[39;49m\u001B[38;5;124;43m\"\u001B[39;49m\u001B[43m]\u001B[49m)\n",
      "File \u001B[0;32m~/anaconda3/envs/GIS_Reporting_System/lib/python3.10/os.py:680\u001B[0m, in \u001B[0;36m_Environ.__getitem__\u001B[0;34m(self, key)\u001B[0m\n\u001B[1;32m    677\u001B[0m     value \u001B[38;5;241m=\u001B[39m \u001B[38;5;28mself\u001B[39m\u001B[38;5;241m.\u001B[39m_data[\u001B[38;5;28mself\u001B[39m\u001B[38;5;241m.\u001B[39mencodekey(key)]\n\u001B[1;32m    678\u001B[0m \u001B[38;5;28;01mexcept\u001B[39;00m \u001B[38;5;167;01mKeyError\u001B[39;00m:\n\u001B[1;32m    679\u001B[0m     \u001B[38;5;66;03m# raise KeyError with the original key value\u001B[39;00m\n\u001B[0;32m--> 680\u001B[0m     \u001B[38;5;28;01mraise\u001B[39;00m \u001B[38;5;167;01mKeyError\u001B[39;00m(key) \u001B[38;5;28;01mfrom\u001B[39;00m \u001B[38;5;28;01mNone\u001B[39;00m\n\u001B[1;32m    681\u001B[0m \u001B[38;5;28;01mreturn\u001B[39;00m \u001B[38;5;28mself\u001B[39m\u001B[38;5;241m.\u001B[39mdecodevalue(value)\n",
      "\u001B[0;31mKeyError\u001B[0m: 'GIS_REPORTING_SYSTEM'"
     ]
    }
   ],
   "source": [
    "print(os.environ[\"GIS_REPORTING_SYSTEM\"])"
   ],
   "metadata": {
    "collapsed": false,
    "ExecuteTime": {
     "end_time": "2024-02-19T09:59:04.038847Z",
     "start_time": "2024-02-19T09:59:04.026501Z"
    }
   },
   "id": "878b6cbde5c482a5"
  },
  {
   "cell_type": "code",
   "execution_count": 11,
   "outputs": [
    {
     "name": "stdout",
     "output_type": "stream",
     "text": [
      "Conversion completed: /Users/Nayan/Desktop/work/GIS_Reporting_System/Temp/output/pdfs/document.pdf\n"
     ]
    }
   ],
   "source": [
    "from docx import Document\n",
    "from fpdf import FPDF\n",
    "\n",
    "# Input DOCX file path\n",
    "docx_file_path = '/Users/Nayan/Desktop/work/GIS_Reporting_System/Temp/output/docx/document.docx'\n",
    "\n",
    "# Output PDF file path\n",
    "pdf_file_path = '/Users/Nayan/Desktop/work/GIS_Reporting_System/Temp/output/pdfs/document.pdf'\n",
    "\n",
    "# Open the DOCX file\n",
    "doc = Document(docx_file_path)\n",
    "\n",
    "# Create a PDF object\n",
    "pdf = FPDF()\n",
    "pdf.set_auto_page_break(auto=True, margin=15)\n",
    "\n",
    "# Add each paragraph from the DOCX to the PDF\n",
    "for paragraph in doc.paragraphs:\n",
    "    pdf.add_page()\n",
    "    pdf.set_font(\"Arial\", size=12)\n",
    "    pdf.multi_cell(0, 10, paragraph.text)\n",
    "\n",
    "# Save the PDF file\n",
    "pdf.output(pdf_file_path)\n",
    "\n",
    "print(f\"Conversion completed: {pdf_file_path}\")\n"
   ],
   "metadata": {
    "collapsed": false,
    "ExecuteTime": {
     "end_time": "2024-02-19T10:57:56.627597Z",
     "start_time": "2024-02-19T10:57:56.583442Z"
    }
   },
   "id": "7942cd041a82070c"
  },
  {
   "cell_type": "code",
   "execution_count": 12,
   "outputs": [],
   "source": [],
   "metadata": {
    "collapsed": false,
    "ExecuteTime": {
     "end_time": "2024-02-19T11:02:33.501508Z",
     "start_time": "2024-02-19T11:02:33.495594Z"
    }
   },
   "id": "8a66323fd7b5778b"
  },
  {
   "cell_type": "code",
   "execution_count": 12,
   "outputs": [],
   "source": [],
   "metadata": {
    "collapsed": false,
    "ExecuteTime": {
     "end_time": "2024-02-19T11:02:33.899528Z",
     "start_time": "2024-02-19T11:02:33.894721Z"
    }
   },
   "id": "2c0cb03da76804f9"
  },
  {
   "cell_type": "code",
   "execution_count": null,
   "outputs": [],
   "source": [],
   "metadata": {
    "collapsed": false
   },
   "id": "f053ef01755bb2de"
  }
 ],
 "metadata": {
  "kernelspec": {
   "display_name": "Python 3",
   "language": "python",
   "name": "python3"
  },
  "language_info": {
   "codemirror_mode": {
    "name": "ipython",
    "version": 2
   },
   "file_extension": ".py",
   "mimetype": "text/x-python",
   "name": "python",
   "nbconvert_exporter": "python",
   "pygments_lexer": "ipython2",
   "version": "2.7.6"
  }
 },
 "nbformat": 4,
 "nbformat_minor": 5
}
